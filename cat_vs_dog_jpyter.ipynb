{
 "cells": [
  {
   "cell_type": "code",
   "execution_count": 5,
   "id": "94538c7c",
   "metadata": {},
   "outputs": [],
   "source": [
    "#to download the dataset\n",
    "\n",
    "#https://storage.googleapis.com/mledu-datasets/cats_and_dogs_filtered.zip"
   ]
  },
  {
   "cell_type": "code",
   "execution_count": null,
   "id": "ca0d8860",
   "metadata": {},
   "outputs": [],
   "source": [
    "# in case you don't want to etract the zip file on your on\n",
    "\n",
    "'''\n",
    "import zipfile\n",
    "\n",
    "# Unzip the archive\n",
    "local_zip = './cats_and_dogs_filtered.zip'\n",
    "zip_ref = zipfile.ZipFile(local_zip, 'r')\n",
    "zip_ref.extractall()\n",
    "\n",
    "zip_ref.close()\n",
    
    "'''"
   ]
  },
  {
   "cell_type": "code",
   "execution_count": 9,
   "id": "d2f59cab",
   "metadata": {},
   "outputs": [
    {
     "name": "stdout",
     "output_type": "stream",
     "text": [
      "Contents of base directory:\n",
      "['train', 'validation', 'vectorize.py']\n",
      "\n",
      "Contents of train directory:\n",
      "['cats', 'dogs']\n",
      "\n",
      "Contents of validation directory:\n",
      "['cats', 'dogs']\n"
     ]
    }
   ],
   "source": [
    "import os\n",
    "\n",
    "#fill with the patho of the directory where you extracted the folder\n",
    "base_dir = r'D:\\ai\\ml bootcamp\\coursera\\tensorflow\\cats vs dogs\\cats_and_dogs_filtered'\n",
    "\n",
    "print(\"Contents of base directory:\")\n",
    "print(os.listdir(base_dir))\n",
    "\n",
    "print(\"\\nContents of train directory:\")\n",
    "print(os.listdir(f'{base_dir}/train'))\n",
    "\n",
    "print(\"\\nContents of validation directory:\")\n",
    "print(os.listdir(f'{base_dir}/validation'))"
   ]
  },
  {
   "cell_type": "code",
   "execution_count": null,
   "id": "dd6ff45e",
   "metadata": {},
   "outputs": [],
   "source": [
    "import os\n",
    "\n",
    "train_dir = os.path.join(base_dir, 'train')\n",
    "validation_dir = os.path.join(base_dir, 'validation')\n",
    "\n",
    "# Directory with training cat/dog pictures\n",
    "train_cats_dir = os.path.join(train_dir, 'cats')\n",
    "train_dogs_dir = os.path.join(train_dir, 'dogs')\n",
    "\n",
    "# Directory with validation cat/dog pictures\n",
    "validation_cats_dir = os.path.join(validation_dir, 'cats')\n",
    "validation_dogs_dir = os.path.join(validation_dir, 'dogs')\n"
   ]
  }
 ],
 "metadata": {
  "kernelspec": {
   "display_name": "Python 3 (ipykernel)",
   "language": "python",
   "name": "python3"
  },
  "language_info": {
   "codemirror_mode": {
    "name": "ipython",
    "version": 3
   },
   "file_extension": ".py",
   "mimetype": "text/x-python",
   "name": "python",
   "nbconvert_exporter": "python",
   "pygments_lexer": "ipython3",
   "version": "3.11.3"
  }
 },
 "nbformat": 4,
 "nbformat_minor": 5
}
